{
 "cells": [
  {
   "cell_type": "markdown",
   "metadata": {},
   "source": [
    "# Assignment 2 - MNIST\n",
    "\n",
    "## 3 Read the data\n",
    "The images are provided in a non-standardized binary format. You can download a python script from studip (03 mnist.py), which reads the data for you, or you can implement your own script, following the description of the file format on the MNIST database homepage.\n",
    "Make sure to modify the script such that you retrieve a training dataset, a validation dataset and the test dataset separately."
   ]
  },
  {
   "cell_type": "code",
   "execution_count": 1,
   "metadata": {
    "collapsed": true
   },
   "outputs": [],
   "source": [
    "train_input_fname = \"t10k-images.idx3-ubyte\"\n",
    "train_label_fname = \"t10k-labels.idx1-ubyte\"\n",
    "test_input_fname = \"train-images.idx3-ubyte\"\n",
    "test_label_fname = \"train-labels.idx1-ubyte\""
   ]
  },
  {
   "cell_type": "code",
   "execution_count": 58,
   "metadata": {
    "collapsed": false
   },
   "outputs": [],
   "source": [
    "import struct\n",
    "import numpy as np\n",
    "\n",
    "def read_idx(fname):\n",
    "    \"\"\"Function to read .idx files.\n",
    "    \n",
    "    The IDX file format is a simple format for vectors and multidimensional\n",
    "    matrices of various numerical types. This function reads the data from\n",
    "    a file and returns a numpy ndarray.\n",
    "    \n",
    "    :fname: Filename to be read.\n",
    "    :returns: numpy ndarray of data read from file.\n",
    "    \"\"\"\n",
    "    # In idx encoded data type.\n",
    "    encoding = {b'\\x08': 'B',\n",
    "                b'\\x09': 'b',\n",
    "                b'\\x0B': 'h',\n",
    "                b'\\x0C': 'i',\n",
    "                b'\\x0D': 'f',\n",
    "                b'\\x0E': 'd'}\n",
    "    \n",
    "    with open(fname, \"rb\") as f:\n",
    "        unpack = struct.unpack\n",
    "        ## Reading the head\n",
    "        # The first two bytes of idx files are always 0.\n",
    "        assert f.read(2) == b'\\x00\\x00'\n",
    "        # Retrieve data type\n",
    "        data_encoding = encoding[f.read(1)]\n",
    "        # Calculate size of data encoding\n",
    "        data_size = struct.calcsize(data_encoding)\n",
    "        #  Read number of dimensions\n",
    "        num_dimensions = unpack('b', f.read(1))[0]\n",
    "        # Read size of each dimension\n",
    "        sizes = [0] * num_dimensions\n",
    "        for i, dim in enumerate(range(num_dimensions)):\n",
    "            # Sizes in each dimension are encoded in 4 bytes.\n",
    "            sizes[i] = unpack('>i', f.read(4))[0]\n",
    "\n",
    "        ## Reading the body\n",
    "        data = np.empty(shape=sizes, dtype=data_encoding)\n",
    "        if num_dimensions == 1:\n",
    "            for i in range(sizes[0]):\n",
    "                data[i] = unpack(data_encoding, f.read(data_size))[0]\n",
    "        elif num_dimensions == 2:\n",
    "            for i in range(sizes[0]):\n",
    "                for j in range(sizes[1]):\n",
    "                    data[i, j] = unpack(data_encoding, f.read(data_size))[0]\n",
    "        elif num_dimensions == 3:\n",
    "            for i in range(sizes[0]):\n",
    "                for j in range(sizes[1]):\n",
    "                    for k in range(sizes[2]):\n",
    "                        data[i, j, k] = unpack(data_encoding, f.read(data_size))[0]\n",
    "        else:\n",
    "            ## Implement recursion -- function load overhead in python very bad though\n",
    "            pass\n",
    "        \n",
    "    return data"
   ]
  },
  {
   "cell_type": "code",
   "execution_count": 59,
   "metadata": {
    "collapsed": false
   },
   "outputs": [
    {
     "data": {
      "text/plain": [
       "(10000, 28, 28)"
      ]
     },
     "execution_count": 59,
     "metadata": {},
     "output_type": "execute_result"
    }
   ],
   "source": [
    "read_idx(train_input_fname).shape"
   ]
  }
 ],
 "metadata": {
  "kernelspec": {
   "display_name": "Python 3",
   "language": "python",
   "name": "python3"
  },
  "language_info": {
   "codemirror_mode": {
    "name": "ipython",
    "version": 3
   },
   "file_extension": ".py",
   "mimetype": "text/x-python",
   "name": "python",
   "nbconvert_exporter": "python",
   "pygments_lexer": "ipython3",
   "version": "3.5.1"
  }
 },
 "nbformat": 4,
 "nbformat_minor": 0
}
